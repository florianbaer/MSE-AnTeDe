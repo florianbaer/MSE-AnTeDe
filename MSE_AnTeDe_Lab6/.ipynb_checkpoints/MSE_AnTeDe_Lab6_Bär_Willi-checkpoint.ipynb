{
 "cells": [
  {
   "cell_type": "markdown",
   "id": "solid-evening",
   "metadata": {},
   "source": [
    "![MSE Logo](https://moodle.msengineering.ch/pluginfile.php/1/core_admin/logo/0x150/1643104191/logo-mse.png)\n",
    "\n",
    "# AnTeDe Lab 6: Applications of word2vec\n",
    "## Objective\n",
    "* Compare pre-trained word2vec models with models trained on your workstation, on word similarity and analogy tasks.\t\n",
    "\n",
    "## General instructions\n",
    "* You can do the lab alone or in groups of two students.\n",
    "* Please write the required code, and also reply explicitly to the questions, as Python comments in code cells or text in markdown cells. \n",
    "* To submit your practical work, please make sure all cells are executed, then save and zip the notebook, and submit it as homework on [Moodle](https://moodle.msengineering.ch/course/view.php?id=1869).\n",
    "* Useful documentation: [section on word2vec in Gensim](https://radimrehurek.com/gensim/models/word2vec.html) as well as the [section on KeyedVectors in Gensim](https://radimrehurek.com/gensim/models/keyedvectors.html).\n",
    "* Training can be done locally if you have at least 16 GB of memory (it takes minutes, not hours), or using [Google Colab](https://colab.research.google.com/)."
   ]
  },
  {
   "cell_type": "markdown",
   "id": "efc9b4ec",
   "metadata": {},
   "source": [
    "Students:\n",
    "Adrian Willi adrian.willi@hslu.ch\n",
    "Florian Bär florian.baer@hslu.ch"
   ]
  },
  {
   "cell_type": "markdown",
   "id": "incorrect-feedback",
   "metadata": {},
   "source": [
    "## 1. Testing a word2vec model trained on Google News\n",
    "a. Install Gensim the latest version of Gensim, for instance by running in your Conda environment `pip install --upgrade gensim`. "
   ]
  },
  {
   "cell_type": "code",
   "execution_count": 4,
   "id": "concerned-richardson",
   "metadata": {},
   "outputs": [
    {
     "name": "stdout",
     "output_type": "stream",
     "text": [
      "Name: gensim\r\n",
      "Version: 4.1.2\r\n",
      "Summary: Python framework for fast Vector Space Modelling\r\n",
      "Home-page: http://radimrehurek.com/gensim\r\n",
      "Author: Radim Rehurek\r\n",
      "Author-email: me@radimrehurek.com\r\n",
      "License: LGPL-2.1-only\r\n",
      "Location: /home/florian/anaconda3/envs/MSE-AnTeDe/lib/python3.10/site-packages\r\n",
      "Requires: scipy, smart-open, numpy\r\n",
      "Required-by: \r\n"
     ]
    }
   ],
   "source": [
    "# If you want to install from here, run the command ('!' indicates a command for the shell)\n",
    "#!pip install --upgrade gensim\n",
    "#!pip install nltk jupyter-notebook\n",
    "\n",
    "# Please run the following verification:\n",
    "!pip show gensim"
   ]
  },
  {
   "cell_type": "code",
   "execution_count": 9,
   "id": "revolutionary-mobile",
   "metadata": {},
   "outputs": [],
   "source": [
    "import gensim, os\n",
    "from gensim import downloader\n",
    "# help(gensim.models.word2vec) # check if you are curious, but don't include output in the final notebook"
   ]
  },
  {
   "cell_type": "code",
   "execution_count": 7,
   "id": "opposed-thirty",
   "metadata": {},
   "outputs": [],
   "source": [
    "# Download the model file from Gensim, for the first time only\n",
    "# gensim.downloader.load(\"word2vec-google-news-300\", return_path = True)\n",
    "# We can assign the returned value to a model, but it is twice larger than needed."
   ]
  },
  {
   "cell_type": "markdown",
   "id": "structural-rescue",
   "metadata": {},
   "source": [
    "b. Where is the model stored on your computer?  What is the size of the file?  Please store the absolute path in a variable called `path_to_model_file`, and use `os.path.getsize` to display the size converted in gigabytes with two decimals."
   ]
  },
  {
   "cell_type": "code",
   "execution_count": 30,
   "id": "rural-burns",
   "metadata": {},
   "outputs": [
    {
     "name": "stdout",
     "output_type": "stream",
     "text": [
      "1.62 GB\n"
     ]
    }
   ],
   "source": [
    "# Please write your Python code below and execute it.\n",
    "path_to_model_file = '/home/florian/gensim-data/word2vec-google-news-300/word2vec-google-news-300.gz'\n",
    "size_in_bytes = os.path.getsize(path_to_model_file)\n",
    "size_in_gb = size_in_bytes/(1024**3)\n",
    "print(f'{size_in_gb:.2f} GB')"
   ]
  },
  {
   "cell_type": "code",
   "execution_count": 31,
   "id": "designed-cooling",
   "metadata": {},
   "outputs": [],
   "source": [
    "# Load the model into the notebook:\n",
    "from gensim.models import KeyedVectors\n",
    "wv_model = gensim.models.KeyedVectors.load_word2vec_format(path_to_model_file, binary=True)  # C bin format"
   ]
  },
  {
   "cell_type": "markdown",
   "id": "transsexual-mistress",
   "metadata": {},
   "source": [
    "c. What is the memory size of the process corresponding to this notebook?  Please simply write the value you obtain from any OS-specific utility that you wish to use for this purpose."
   ]
  },
  {
   "cell_type": "code",
   "execution_count": 32,
   "id": "recent-paper",
   "metadata": {},
   "outputs": [
    {
     "data": {
      "text/plain": [
       "4157480"
      ]
     },
     "execution_count": 32,
     "metadata": {},
     "output_type": "execute_result"
    }
   ],
   "source": [
    "import resource\n",
    "\n",
    "# Please write your size below.\n",
    "resource.getrusage(resource.RUSAGE_SELF).ru_maxrss"
   ]
  },
  {
   "cell_type": "markdown",
   "id": "lightweight-constraint",
   "metadata": {},
   "source": [
    "d. What is the size of the vocabulary of this model?  (I.e., how many words does it know?)"
   ]
  },
  {
   "cell_type": "code",
   "execution_count": null,
   "id": "cleared-organizer",
   "metadata": {},
   "outputs": [],
   "source": [
    "# Please write the Python code needed to display the vocabulary size and execute it.\n"
   ]
  },
  {
   "cell_type": "markdown",
   "id": "stuck-wrong",
   "metadata": {},
   "source": [
    "e. Compare the vocabulary size with the number of words in an English dictionary.  How do you explain the difference?  Illustrate your explanation by showing at least 5 words which are in the model's vocabulary, and 2 that are not."
   ]
  },
  {
   "cell_type": "code",
   "execution_count": null,
   "id": "forty-crossing",
   "metadata": {},
   "outputs": [],
   "source": [
    "# Please write your Python code below and execute it.\n"
   ]
  },
  {
   "cell_type": "markdown",
   "id": "celtic-energy",
   "metadata": {},
   "source": [
    "f. Determine the size of the vector space for this word2vec model, i.e. the dimensionality of the embedding space, using two methods: either using the vector of a word from the vocabulary, or directly using the shape of the model."
   ]
  },
  {
   "cell_type": "code",
   "execution_count": null,
   "id": "ahead-newport",
   "metadata": {},
   "outputs": [],
   "source": [
    "# Please write your Python code below and execute it.\n"
   ]
  },
  {
   "cell_type": "markdown",
   "id": "whole-roommate",
   "metadata": {},
   "source": [
    "## 2. Using word2vec trained on Google News for word similarity\n",
    "In this section, you are going to use word vectors to compute (cosine) similarity between words (use the [KeyedVectors](https://radimrehurek.com/gensim/models/keyedvectors.html) documentation).  You will experiment with three tasks: (a) rank a small number of word pairs by decreasing similarity; (b) test the model on the WordSimilarity-353 set; (c) test the model on the analogy task."
   ]
  },
  {
   "cell_type": "markdown",
   "id": "extraordinary-conspiracy",
   "metadata": {},
   "source": [
    "a. Sort the word pairs given below by decreasing similarity (i.e. most similar first).  Display also the similarity value found by word2vec, with 2 decimals."
   ]
  },
  {
   "cell_type": "code",
   "execution_count": null,
   "id": "caring-relationship",
   "metadata": {},
   "outputs": [],
   "source": [
    "test_pairs = [('car','automobile'), ('car', 'bike'), ('car', 'oil'), ('car', 'pedal'), \n",
    "              ('bike', 'pedal'), ('bike', 'bicycle'), ('oil', 'gas'), ('car', 'bus')]\n",
    "# Please write your Python code below and execute it.\n"
   ]
  },
  {
   "cell_type": "markdown",
   "id": "impossible-incentive",
   "metadata": {},
   "source": [
    "b. What are the five closest words to *car* in the whole vocabulary and their similarity values with *car*? "
   ]
  },
  {
   "cell_type": "code",
   "execution_count": null,
   "id": "baking-shock",
   "metadata": {},
   "outputs": [],
   "source": [
    "wv_model.init_sims(replace=True) # run this to avoid memory footprint doubling with the first call \n",
    "# of \"most_similar\" (which caches unit vectors without replacement, unless told explicitly to do so).\n",
    "# Will have the same effect on evaluate_word_analogies below.\n",
    "\n",
    "# Please write your Python code below and execute it.\n"
   ]
  },
  {
   "cell_type": "markdown",
   "id": "requested-manner",
   "metadata": {},
   "source": [
    "c. Using the [KeyedVectors](https://radimrehurek.com/gensim/models/keyedvectors.html) documentation, evaluate the model on the WordSimilarity-353 task.  This compares similarities assigned to word pairs by word2vec with those assigned by humans.  Please display only the Pearson Correlation Coefficient, with two decimals. "
   ]
  },
  {
   "cell_type": "code",
   "execution_count": null,
   "id": "metallic-salmon",
   "metadata": {},
   "outputs": [],
   "source": [
    "# Please write your Python code below and execute it.\n"
   ]
  },
  {
   "cell_type": "markdown",
   "id": "accessible-clone",
   "metadata": {},
   "source": [
    "d. Using the [KeyedVectors](https://radimrehurek.com/gensim/models/keyedvectors.html) documentation, evaluate the model on the Analogy Tasks (e.g., \"*What is to Thailand what Athens is to Greece?*\"). The task is specified in a data file called `questions-words.txt`.  Note: this takes around 5 minutes.  Store the output in a variable for future use."
   ]
  },
  {
   "cell_type": "code",
   "execution_count": null,
   "id": "animated-faculty",
   "metadata": {},
   "outputs": [],
   "source": [
    "# Please write your Python code below and execute it.\n"
   ]
  },
  {
   "cell_type": "markdown",
   "id": "raising-harrison",
   "metadata": {},
   "source": [
    "e. Using the output above, Please display the accuracy (number of correctly solved analogies), and then pick four categories of your choice, and display for each of them the accuracy, a correctly-solved analogy, and an incorrectly-solved one.  How many analogy tasks are there in total?"
   ]
  },
  {
   "cell_type": "code",
   "execution_count": null,
   "id": "collaborative-confidence",
   "metadata": {},
   "outputs": [],
   "source": [
    "# Please write your Python code below and execute it.\n"
   ]
  },
  {
   "cell_type": "markdown",
   "id": "sorted-violin",
   "metadata": {},
   "source": [
    "f. Create a short file called `questions-words-NAME.txt` (where `NAME` is your name) with several new test items for analogies (at least 10 lines), following the template of `questions-words.txt`.  For instance, from the three following pairs: (eye, see), (ear, listen), and (foot, walk) you can create 12 test items, varying the item that the system must predict and the initial items.  What is the accuracy of the model on your test set?"
   ]
  },
  {
   "cell_type": "code",
   "execution_count": null,
   "id": "hundred-installation",
   "metadata": {},
   "outputs": [],
   "source": [
    "# Please write your Python code below and execute it.\n"
   ]
  },
  {
   "cell_type": "markdown",
   "id": "competent-usage",
   "metadata": {},
   "source": [
    "## 3. Training a word2vec model from scratch\n",
    "In this section, you will first use `gensim.downloader` to retrieve a 100-million character corpus ('text8' excerpt from Wikipedia).  You will use this data to train your own word2vec model.  Then, you will test the model on word similarity and analogies tasks.\n",
    "* [documentation of gensim.downloader](https://radimrehurek.com/gensim/downloader.html)\n",
    "* [corpora and pre-trained models available from gensim-data](https://github.com/RaRe-Technologies/gensim-data) -- the list can also be accessed with the command `gensim.downloader.info()` \n",
    "\n",
    "Please run the following code first."
   ]
  },
  {
   "cell_type": "code",
   "execution_count": null,
   "id": "satellite-interface",
   "metadata": {},
   "outputs": [],
   "source": [
    "import gensim.downloader as api\n",
    "text8_corpus = api.load('text8') # Downloads file once if needed -- if not, loads it from local copy."
   ]
  },
  {
   "cell_type": "markdown",
   "id": "august-meaning",
   "metadata": {},
   "source": [
    "a. How many words are there in the 'text8' corpus?"
   ]
  },
  {
   "cell_type": "code",
   "execution_count": null,
   "id": "another-vatican",
   "metadata": {},
   "outputs": [],
   "source": [
    "# Please write your Python code below and execute it.\n"
   ]
  },
  {
   "cell_type": "markdown",
   "id": "steady-brown",
   "metadata": {},
   "source": [
    "b. Using the [documentation of Gensim's Word2Vec class](https://radimrehurek.com/gensim/models/word2vec.html), train your own word2vec model with 100-dimensional embeddings using 'text8'.  How many seconds does this take? (Use the difference between start and end times obtained with `time.time()`.)"
   ]
  },
  {
   "cell_type": "code",
   "execution_count": null,
   "id": "blond-semiconductor",
   "metadata": {},
   "outputs": [],
   "source": [
    "import time\n",
    "from gensim.models import Word2Vec\n",
    "# Please write your Python code below and execute it.\n"
   ]
  },
  {
   "cell_type": "markdown",
   "id": "tribal-viking",
   "metadata": {},
   "source": [
    "c. Using your code from Section 1, what are the vocabulary size and the dimensionality of the embedding space of this model?"
   ]
  },
  {
   "cell_type": "code",
   "execution_count": null,
   "id": "average-toolbox",
   "metadata": {},
   "outputs": [],
   "source": [
    "# Please write the Python code needed to display the vocabulary size and execute it.\n"
   ]
  },
  {
   "cell_type": "markdown",
   "id": "complex-respondent",
   "metadata": {},
   "source": [
    "d. Please read the \"*Usage examples*\" of the [Word2Vec class](https://radimrehurek.com/gensim/models/word2vec.html) to understand the difference between saving the full Word2Vec model (which enables future retraining on additional data) or saving only the vectors, an instance of KeyedVectors, which will save space.  Now, (1) save the vectors only, (2) load the vectors into a new variable, and (if everything worked fine), (3) delete the old model variable from the notebook's memory using `del`.  Note: saving the vectors may create one or more files, depending on the size of the model."
   ]
  },
  {
   "cell_type": "code",
   "execution_count": null,
   "id": "standard-development",
   "metadata": {},
   "outputs": [],
   "source": [
    "# Please write your Python code below and execute it.\n"
   ]
  },
  {
   "cell_type": "markdown",
   "id": "backed-modern",
   "metadata": {},
   "source": [
    "e. Evaluate the new model on WordSimilarity-353 and Analogies tasks, reusing your code from above.  How does this model compare with the one trained on Google News?  Why?"
   ]
  },
  {
   "cell_type": "code",
   "execution_count": null,
   "id": "domestic-evaluation",
   "metadata": {},
   "outputs": [],
   "source": [
    "wv_text8.init_sims(replace=True) # see (2b) but less important as the model is much smaller\n",
    "\n",
    "# Please write your Python code below and execute it.\n"
   ]
  },
  {
   "cell_type": "code",
   "execution_count": null,
   "id": "dramatic-celtic",
   "metadata": {},
   "outputs": [],
   "source": [
    "# Please write below a short comment to compare the 'Text8' model with the'Google News' model.\n"
   ]
  },
  {
   "cell_type": "markdown",
   "id": "original-incident",
   "metadata": {},
   "source": [
    "f. Compare the accuracies on the analogy tasks of the two models for each category of tasks.  For which category are accuracies the most similar.  Can you explain this?"
   ]
  },
  {
   "cell_type": "code",
   "execution_count": null,
   "id": "comfortable-prospect",
   "metadata": {},
   "outputs": [],
   "source": [
    "# Please write your Python code below and execute it.\n"
   ]
  },
  {
   "cell_type": "markdown",
   "id": "numeric-sunday",
   "metadata": {},
   "source": [
    "## 4. Compare the two models on your own analogy tasks\n",
    "In this section, you will evaluate the new model on the analogy tasks you defined in Section 2f.  You will then try to diagnose the performance by inspecting the word vectors.\n",
    "\n",
    "a. Reusing the code from above, what is the accuracy of the model trained on Text 8 on your analogy tasks from 2f?"
   ]
  },
  {
   "cell_type": "code",
   "execution_count": null,
   "id": "functional-control",
   "metadata": {},
   "outputs": [],
   "source": [
    "# Please write your Python code below and execute it.\n"
   ]
  },
  {
   "cell_type": "markdown",
   "id": "adverse-oxford",
   "metadata": {},
   "source": [
    "b. We are now going to visualize the word vectors for the words in your analogy task.  Store the list of words in a variable and check which ones are in the vocabulary; create a new variable with them."
   ]
  },
  {
   "cell_type": "code",
   "execution_count": null,
   "id": "informative-learning",
   "metadata": {},
   "outputs": [],
   "source": [
    "# Please write your Python code below and execute it.\n"
   ]
  },
  {
   "cell_type": "markdown",
   "id": "activated-marine",
   "metadata": {},
   "source": [
    "c. The function below will help you plot a 2D representation of the word vectors using [PCA from scikit.learn](https://scikit-learn.org/stable/modules/generated/sklearn.decomposition.PCA.html).  (It is also possible to use [UMAP](https://umap-learn.readthedocs.io/en/latest/basic_usage.html) instead of PCA in display_scatterplot).  Please display the word vectors for your model trained on Text8, and then for the model trained on Google News.  Please comment on the differences. "
   ]
  },
  {
   "cell_type": "code",
   "execution_count": null,
   "id": "demographic-rabbit",
   "metadata": {},
   "outputs": [],
   "source": [
    "from sklearn.decomposition import PCA\n",
    "import matplotlib.pyplot as plt\n",
    "%matplotlib inline"
   ]
  },
  {
   "cell_type": "code",
   "execution_count": null,
   "id": "starting-catholic",
   "metadata": {},
   "outputs": [],
   "source": [
    "def display_scatterplot(model, words): # assumes all words are in the vocabulary\n",
    "    word_vectors = [model[word] for word in words]\n",
    "    twodim = PCA().fit_transform(word_vectors)[:,:2]\n",
    "    plt.figure(figsize=(6,6))\n",
    "    plt.scatter(twodim[:,0], twodim[:,1], edgecolors='k', c='r')\n",
    "    for word, (x,y) in zip(words, twodim):\n",
    "        plt.text(x + 0.03, y + 0.03, word)"
   ]
  },
  {
   "cell_type": "code",
   "execution_count": null,
   "id": "innovative-portal",
   "metadata": {},
   "outputs": [],
   "source": [
    "# Please write your Python code below and execute it."
   ]
  },
  {
   "cell_type": "code",
   "execution_count": null,
   "id": "unlikely-jackson",
   "metadata": {},
   "outputs": [],
   "source": [
    "# Please write your Python code below and execute it."
   ]
  },
  {
   "cell_type": "markdown",
   "id": "pharmaceutical-lyric",
   "metadata": {},
   "source": [
    "## End of Lab 6\n",
    "Please make sure all cells have been executed, save this completed notebook, compress it to a *zip* file, and upload it to [Moodle](https://moodle.msengineering.ch/course/view.php?id=1869)."
   ]
  }
 ],
 "metadata": {
  "kernelspec": {
   "display_name": "Python 3 (ipykernel)",
   "language": "python",
   "name": "python3"
  },
  "language_info": {
   "codemirror_mode": {
    "name": "ipython",
    "version": 3
   },
   "file_extension": ".py",
   "mimetype": "text/x-python",
   "name": "python",
   "nbconvert_exporter": "python",
   "pygments_lexer": "ipython3",
   "version": "3.10.4"
  }
 },
 "nbformat": 4,
 "nbformat_minor": 5
}
