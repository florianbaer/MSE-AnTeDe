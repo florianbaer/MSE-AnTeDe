{
 "cells": [
  {
   "cell_type": "markdown",
   "id": "solid-evening",
   "metadata": {},
   "source": [
    "![MSE Logo](https://moodle.msengineering.ch/pluginfile.php/1/core_admin/logo/0x150/1643104191/logo-mse.png)\n",
    "\n",
    "# AnTeDe Lab 6: Applications of word2vec\n",
    "## Objective\n",
    "* Compare pre-trained word2vec models with models trained on your workstation, on word similarity and analogy tasks.\t\n",
    "\n",
    "## General instructions\n",
    "* You can do the lab alone or in groups of two students.\n",
    "* Please write the required code, and also reply explicitly to the questions, as Python comments in code cells or text in markdown cells. \n",
    "* To submit your practical work, please make sure all cells are executed, then save and zip the notebook, and submit it as homework on [Moodle](https://moodle.msengineering.ch/course/view.php?id=1869).\n",
    "* Useful documentation: [section on word2vec in Gensim](https://radimrehurek.com/gensim/models/word2vec.html) as well as the [section on KeyedVectors in Gensim](https://radimrehurek.com/gensim/models/keyedvectors.html).\n",
    "* Training can be done locally if you have at least 16 GB of memory (it takes minutes, not hours), or using [Google Colab](https://colab.research.google.com/)."
   ]
  },
  {
   "cell_type": "markdown",
   "id": "efc9b4ec",
   "metadata": {},
   "source": [
    "Students:\n",
    "Adrian Willi adrian.willi@hslu.ch\n",
    "Florian Bär florian.baer@hslu.ch"
   ]
  },
  {
   "cell_type": "markdown",
   "id": "incorrect-feedback",
   "metadata": {},
   "source": [
    "## 1. Testing a word2vec model trained on Google News\n",
    "a. Install Gensim the latest version of Gensim, for instance by running in your Conda environment `pip install --upgrade gensim`. "
   ]
  },
  {
   "cell_type": "code",
   "execution_count": 4,
   "id": "concerned-richardson",
   "metadata": {},
   "outputs": [
    {
     "name": "stdout",
     "output_type": "stream",
     "text": [
      "Name: gensim\r\n",
      "Version: 4.1.2\r\n",
      "Summary: Python framework for fast Vector Space Modelling\r\n",
      "Home-page: http://radimrehurek.com/gensim\r\n",
      "Author: Radim Rehurek\r\n",
      "Author-email: me@radimrehurek.com\r\n",
      "License: LGPL-2.1-only\r\n",
      "Location: /home/florian/anaconda3/envs/MSE-AnTeDe/lib/python3.10/site-packages\r\n",
      "Requires: scipy, smart-open, numpy\r\n",
      "Required-by: \r\n"
     ]
    }
   ],
   "source": [
    "# If you want to install from here, run the command ('!' indicates a command for the shell)\n",
    "#!pip install --upgrade gensim\n",
    "#!pip install nltk jupyter-notebook\n",
    "\n",
    "# Please run the following verification:\n",
    "!pip show gensim"
   ]
  },
  {
   "cell_type": "code",
   "execution_count": 9,
   "id": "revolutionary-mobile",
   "metadata": {},
   "outputs": [],
   "source": [
    "import gensim, os\n",
    "from gensim import downloader\n",
    "# help(gensim.models.word2vec) # check if you are curious, but don't include output in the final notebook"
   ]
  },
  {
   "cell_type": "code",
   "execution_count": 7,
   "id": "opposed-thirty",
   "metadata": {},
   "outputs": [],
   "source": [
    "# Download the model file from Gensim, for the first time only\n",
    "# gensim.downloader.load(\"word2vec-google-news-300\", return_path = True)\n",
    "# We can assign the returned value to a model, but it is twice larger than needed."
   ]
  },
  {
   "cell_type": "markdown",
   "id": "structural-rescue",
   "metadata": {},
   "source": [
    "b. Where is the model stored on your computer?  What is the size of the file?  Please store the absolute path in a variable called `path_to_model_file`, and use `os.path.getsize` to display the size converted in gigabytes with two decimals."
   ]
  },
  {
   "cell_type": "code",
   "execution_count": 30,
   "id": "rural-burns",
   "metadata": {},
   "outputs": [
    {
     "name": "stdout",
     "output_type": "stream",
     "text": [
      "1.62 GB\n"
     ]
    }
   ],
   "source": [
    "# Please write your Python code below and execute it.\n",
    "path_to_model_file = '/home/florian/gensim-data/word2vec-google-news-300/word2vec-google-news-300.gz'\n",
    "size_in_bytes = os.path.getsize(path_to_model_file)\n",
    "size_in_gb = size_in_bytes/(1024**3)\n",
    "print(f'{size_in_gb:.2f} GB')"
   ]
  },
  {
   "cell_type": "code",
   "execution_count": 31,
   "id": "designed-cooling",
   "metadata": {},
   "outputs": [],
   "source": [
    "# Load the model into the notebook:\n",
    "from gensim.models import KeyedVectors\n",
    "wv_model = gensim.models.KeyedVectors.load_word2vec_format(path_to_model_file, binary=True)  # C bin format"
   ]
  },
  {
   "cell_type": "markdown",
   "id": "transsexual-mistress",
   "metadata": {},
   "source": [
    "c. What is the memory size of the process corresponding to this notebook?  Please simply write the value you obtain from any OS-specific utility that you wish to use for this purpose."
   ]
  },
  {
   "cell_type": "code",
   "execution_count": 35,
   "id": "recent-paper",
   "metadata": {},
   "outputs": [
    {
     "name": "stdout",
     "output_type": "stream",
     "text": [
      "4.2 GB\n"
     ]
    }
   ],
   "source": [
    "print('4.2 GB')"
   ]
  },
  {
   "cell_type": "markdown",
   "id": "lightweight-constraint",
   "metadata": {},
   "source": [
    "d. What is the size of the vocabulary of this model?  (I.e., how many words does it know?)"
   ]
  },
  {
   "cell_type": "code",
   "execution_count": 44,
   "id": "cleared-organizer",
   "metadata": {},
   "outputs": [
    {
     "name": "stdout",
     "output_type": "stream",
     "text": [
      "3000000\n",
      "3000000\n"
     ]
    }
   ],
   "source": [
    "# Please write the Python code needed to display the vocabulary size and execute it.\n",
    "print(len(wv_model.vectors))\n",
    "# or\n",
    "print(len(wv_model))"
   ]
  },
  {
   "cell_type": "markdown",
   "id": "stuck-wrong",
   "metadata": {},
   "source": [
    "e. Compare the vocabulary size with the number of words in an English dictionary.  How do you explain the difference?  Illustrate your explanation by showing at least 5 words which are in the model's vocabulary, and 2 that are not."
   ]
  },
  {
   "cell_type": "markdown",
   "source": [
    "According to wikipedia [Wikipedia](https://en.wikipedia.org/wiki/List_of_dictionaries_by_number_of_words) the english language has around 470,000 Words.\n",
    "**Words that are available are:**\n",
    "- work\n",
    "- fun\n",
    "- school\n",
    "- computer\n",
    "- english\n",
    "\n",
    "**Words not in the dict are:**\n",
    "- covid - new word appeared 2020\n",
    "- woofits  - \"A hangover.\"\n",
    "\n",
    "I searched by intention for old words [Nice old words](https://www.businessinsider.com/best-old-english-words-that-no-longer-exist-2017-3?r=US&IR=T) or new words appeared recently"
   ],
   "metadata": {
    "collapsed": false
   }
  },
  {
   "cell_type": "code",
   "execution_count": 62,
   "id": "forty-crossing",
   "metadata": {},
   "outputs": [
    {
     "name": "stdout",
     "output_type": "stream",
     "text": [
      "True\n",
      "True\n",
      "True\n",
      "True\n",
      "True\n",
      "False\n",
      "False\n"
     ]
    }
   ],
   "source": [
    "# Please write your Python code below and execute it.\n",
    "# words in dict\n",
    "print('work' in wv_model)\n",
    "print('fun' in wv_model)\n",
    "print('school' in wv_model)\n",
    "print('computer' in wv_model)\n",
    "print('english' in wv_model)\n",
    "\n",
    "\n",
    "# words not in dict\n",
    "print('covid' in wv_model)\n",
    "print('woofits' in wv_model)\n"
   ]
  },
  {
   "cell_type": "code",
   "execution_count": null,
   "outputs": [],
   "source": [
    "print(wv_model['computer'])"
   ],
   "metadata": {
    "collapsed": false,
    "pycharm": {
     "name": "#%%\n"
    }
   }
  },
  {
   "cell_type": "markdown",
   "id": "celtic-energy",
   "metadata": {},
   "source": [
    "f. Determine the size of the vector space for this word2vec model, i.e. the dimensionality of the embedding space, using two methods: either using the vector of a word from the vocabulary, or directly using the shape of the model."
   ]
  },
  {
   "cell_type": "code",
   "execution_count": 65,
   "id": "ahead-newport",
   "metadata": {},
   "outputs": [
    {
     "name": "stdout",
     "output_type": "stream",
     "text": [
      "300\n",
      "300\n"
     ]
    }
   ],
   "source": [
    "# Please write your Python code below and execute it.\n",
    "print(len(wv_model['computer']))\n",
    "# or\n",
    "print(wv_model.vector_size)"
   ]
  },
  {
   "cell_type": "markdown",
   "id": "whole-roommate",
   "metadata": {},
   "source": [
    "## 2. Using word2vec trained on Google News for word similarity\n",
    "In this section, you are going to use word vectors to compute (cosine) similarity between words (use the [KeyedVectors](https://radimrehurek.com/gensim/models/keyedvectors.html) documentation).  You will experiment with three tasks: (a) rank a small number of word pairs by decreasing similarity; (b) test the model on the WordSimilarity-353 set; (c) test the model on the analogy task."
   ]
  },
  {
   "cell_type": "markdown",
   "id": "extraordinary-conspiracy",
   "metadata": {},
   "source": [
    "a. Sort the word pairs given below by decreasing similarity (i.e. most similar first).  Display also the similarity value found by word2vec, with 2 decimals."
   ]
  },
  {
   "cell_type": "code",
   "execution_count": 74,
   "id": "caring-relationship",
   "metadata": {},
   "outputs": [
    {
     "name": "stdout",
     "output_type": "stream",
     "text": [
      "[(0.8521309, ('bike', 'bicycle')), (0.71059805, ('oil', 'gas')), (0.58541536, ('car', 'bike')), (0.5838368, ('car', 'automobile')), (0.4693371, ('car', 'bus')), (0.4666497, ('bike', 'pedal')), (0.29297784, ('car', 'pedal')), (0.14874084, ('car', 'oil'))]\n"
     ]
    }
   ],
   "source": [
    "test_pairs = [('car','automobile'), ('car', 'bike'), ('car', 'oil'), ('car', 'pedal'), \n",
    "              ('bike', 'pedal'), ('bike', 'bicycle'), ('oil', 'gas'), ('car', 'bus')]\n",
    "# Please write your Python code below and execute it.\n",
    "similarities = [(wv_model.similarity(tuple[0], tuple[1]), tuple) for tuple in test_pairs]\n",
    "similarities.sort(key=lambda x: x[0], reverse=True)\n",
    "print(similarities)"
   ]
  },
  {
   "cell_type": "markdown",
   "id": "impossible-incentive",
   "metadata": {},
   "source": [
    "b. What are the five closest words to *car* in the whole vocabulary and their similarity values with *car*? "
   ]
  },
  {
   "cell_type": "code",
   "execution_count": 78,
   "id": "baking-shock",
   "metadata": {},
   "outputs": [
    {
     "name": "stderr",
     "output_type": "stream",
     "text": [
      "/tmp/ipykernel_34863/3888414087.py:1: DeprecationWarning: Call to deprecated `init_sims` (Use fill_norms() instead. See https://github.com/RaRe-Technologies/gensim/wiki/Migrating-from-Gensim-3.x-to-4).\n",
      "  wv_model.init_sims(replace=True) # run this to avoid memory footprint doubling with the first call\n"
     ]
    },
    {
     "name": "stdout",
     "output_type": "stream",
     "text": [
      "[('vehicle', 0.7821096181869507), ('cars', 0.7423830032348633), ('SUV', 0.7160962820053101), ('minivan', 0.6907036304473877), ('truck', 0.6735789775848389)]\n"
     ]
    }
   ],
   "source": [
    "wv_model.init_sims(replace=True) # run this to avoid memory footprint doubling with the first call\n",
    "# of \"most_similar\" (which caches unit vectors without replacement, unless told explicitly to do so).\n",
    "# Will have the same effect on evaluate_word_analogies below\n",
    "# Please write your Python code below and execute it.\n",
    "print(wv_model.most_similar('car', topn=5))"
   ]
  },
  {
   "cell_type": "markdown",
   "id": "requested-manner",
   "metadata": {},
   "source": [
    "c. Using the [KeyedVectors](https://radimrehurek.com/gensim/models/keyedvectors.html) documentation, evaluate the model on the WordSimilarity-353 task.  This compares similarities assigned to word pairs by word2vec with those assigned by humans.  Please display only the Pearson Correlation Coefficient, with two decimals."
   ]
  },
  {
   "cell_type": "code",
   "execution_count": 87,
   "id": "metallic-salmon",
   "metadata": {},
   "outputs": [
    {
     "name": "stdout",
     "output_type": "stream",
     "text": [
      "Pearson 0.623877 with p-value 1.7963285234267404e-39\n"
     ]
    }
   ],
   "source": [
    "# Please write your Python code below and execute it.\n",
    "from gensim.test.utils import datapath\n",
    "pearson, spearman, oov_ratio = wv_model.evaluate_word_pairs(datapath('wordsim353.tsv'))\n",
    "print(f'Pearson {pearson[0]:2f} with p-value {pearson[1]}')"
   ]
  },
  {
   "cell_type": "markdown",
   "id": "accessible-clone",
   "metadata": {},
   "source": [
    "d. Using the [KeyedVectors](https://radimrehurek.com/gensim/models/keyedvectors.html) documentation, evaluate the model on the Analogy Tasks (e.g., \"*What is to Thailand what Athens is to Greece?*\"). The task is specified in a data file called `questions-words.txt`.  Note: this takes around 5 minutes.  Store the output in a variable for future use."
   ]
  },
  {
   "cell_type": "code",
   "execution_count": 88,
   "id": "animated-faculty",
   "metadata": {},
   "outputs": [],
   "source": [
    "# Please write your Python code below and execute it.\n",
    "analogy_scores = wv_model.evaluate_word_analogies(datapath('questions-words.txt'))"
   ]
  },
  {
   "cell_type": "markdown",
   "id": "raising-harrison",
   "metadata": {},
   "source": [
    "e. Using the output above, Please display the accuracy (number of correctly solved analogies), and then pick four categories of your choice, and display for each of them the accuracy, a correctly-solved analogy, and an incorrectly-solved one.  How many analogy tasks are there in total?"
   ]
  },
  {
   "cell_type": "code",
   "execution_count": 163,
   "id": "collaborative-confidence",
   "metadata": {},
   "outputs": [
    {
     "name": "stdout",
     "output_type": "stream",
     "text": [
      "Accuracy: 0.7401448525607863\n",
      "Total of 19330\n"
     ]
    }
   ],
   "source": [
    "# Please write your Python code below and execute it.\n",
    "acc = analogy_scores[0]\n",
    "print(f'Accuracy: {acc}')\n",
    "# last element is total accuracy - so just count them together\n",
    "print(f\"Total of {(len(analogy_scores[1][-1]['correct'])+len(analogy_scores[1][-1]['incorrect']))}\")"
   ]
  },
  {
   "cell_type": "markdown",
   "id": "sorted-violin",
   "metadata": {},
   "source": [
    "f. Create a short file called `questions-words-NAME.txt` (where `NAME` is your name) with several new test items for analogies (at least 10 lines), following the template of `questions-words.txt`.  For instance, from the three following pairs: (eye, see), (ear, listen), and (foot, walk) you can create 12 test items, varying the item that the system must predict and the initial items.  What is the accuracy of the model on your test set?"
   ]
  },
  {
   "cell_type": "code",
   "execution_count": 118,
   "id": "hundred-installation",
   "metadata": {},
   "outputs": [
    {
     "name": "stdout",
     "output_type": "stream",
     "text": [
      "0.16666666666666666\n",
      "0.16666666666666666\n",
      "0.08333333333333333\n"
     ]
    }
   ],
   "source": [
    "# Please write your Python code below and execute it.\n",
    "analogy_scores_self = wv_model.evaluate_word_analogies('questions-words-florian-baer.txt')\n",
    "print(analogy_scores_self[0])\n",
    "analogy_scores_self = wv_model.evaluate_word_analogies('questions-words-florian-baer2.txt')\n",
    "print(analogy_scores_self[0])\n",
    "analogy_scores_self = wv_model.evaluate_word_analogies('questions-words-florian-baer3.txt')\n",
    "print(analogy_scores_self[0])\n",
    "# does not work too good"
   ]
  },
  {
   "cell_type": "markdown",
   "id": "competent-usage",
   "metadata": {},
   "source": [
    "## 3. Training a word2vec model from scratch\n",
    "In this section, you will first use `gensim.downloader` to retrieve a 100-million character corpus ('text8' excerpt from Wikipedia).  You will use this data to train your own word2vec model.  Then, you will test the model on word similarity and analogies tasks.\n",
    "* [documentation of gensim.downloader](https://radimrehurek.com/gensim/downloader.html)\n",
    "* [corpora and pre-trained models available from gensim-data](https://github.com/RaRe-Technologies/gensim-data) -- the list can also be accessed with the command `gensim.downloader.info()` \n",
    "\n",
    "Please run the following code first."
   ]
  },
  {
   "cell_type": "code",
   "execution_count": 120,
   "id": "satellite-interface",
   "metadata": {},
   "outputs": [],
   "source": [
    "import gensim.downloader as api\n",
    "text8_corpus = api.load('text8') # Downloads file once if needed -- if not, loads it from local copy."
   ]
  },
  {
   "cell_type": "markdown",
   "id": "august-meaning",
   "metadata": {},
   "source": [
    "a. How many words are there in the 'text8' corpus?"
   ]
  },
  {
   "cell_type": "code",
   "execution_count": 142,
   "id": "another-vatican",
   "metadata": {},
   "outputs": [
    {
     "name": "stdout",
     "output_type": "stream",
     "text": [
      "Unique words: \t253854\n",
      "All words: \t\t17005207\n"
     ]
    }
   ],
   "source": [
    "# Please write your Python code below and execute it.\n",
    "words_set = set()\n",
    "words = []\n",
    "[words_set.add(word)for sentence in text8_corpus for word in sentence]\n",
    "[words.append(word)for sentence in text8_corpus for word in sentence]\n",
    "print(f'Unique words: \\t{len(words_set)}')\n",
    "print(f'All words: \\t\\t{len(words)}')"
   ]
  },
  {
   "cell_type": "markdown",
   "id": "steady-brown",
   "metadata": {},
   "source": [
    "b. Using the [documentation of Gensim's Word2Vec class](https://radimrehurek.com/gensim/models/word2vec.html), train your own word2vec model with 100-dimensional embeddings using 'text8'.  How many seconds does this take? (Use the difference between start and end times obtained with `time.time()`.)"
   ]
  },
  {
   "cell_type": "code",
   "execution_count": 156,
   "id": "blond-semiconductor",
   "metadata": {},
   "outputs": [
    {
     "name": "stdout",
     "output_type": "stream",
     "text": [
      "Duration is 46.28 seconds\n"
     ]
    }
   ],
   "source": [
    "import time\n",
    "from gensim.models import Word2Vec\n",
    "# Please write your Python code below and execute it.\n",
    "start = time.time()\n",
    "model = Word2Vec(sentences=text8_corpus, vector_size=100, window=5, min_count=1, workers=8)\n",
    "end = time.time()\n",
    "duration = end - start\n",
    "print(f'Duration is {duration:.2f} seconds')"
   ]
  },
  {
   "cell_type": "markdown",
   "id": "tribal-viking",
   "metadata": {},
   "source": [
    "c. Using your code from Section 1, what are the vocabulary size and the dimensionality of the embedding space of this model?"
   ]
  },
  {
   "cell_type": "code",
   "execution_count": 157,
   "id": "average-toolbox",
   "metadata": {},
   "outputs": [
    {
     "name": "stdout",
     "output_type": "stream",
     "text": [
      "vocabulary size: 253854\n",
      "vector size: 100\n"
     ]
    }
   ],
   "source": [
    "# Please write the Python code needed to display the vocabulary size and execute it.\n",
    "\n",
    "print(f'vocabulary size: {len(model.wv.vectors)}')\n",
    "print(f'vector size: {model.wv.vector_size}')"
   ]
  },
  {
   "cell_type": "markdown",
   "id": "complex-respondent",
   "metadata": {},
   "source": [
    "d. Please read the \"*Usage examples*\" of the [Word2Vec class](https://radimrehurek.com/gensim/models/word2vec.html) to understand the difference between saving the full Word2Vec model (which enables future retraining on additional data) or saving only the vectors, an instance of KeyedVectors, which will save space.  Now, (1) save the vectors only, (2) load the vectors into a new variable, and (if everything worked fine), (3) delete the old model variable from the notebook's memory using `del`.  Note: saving the vectors may create one or more files, depending on the size of the model."
   ]
  },
  {
   "cell_type": "code",
   "execution_count": 158,
   "id": "standard-development",
   "metadata": {},
   "outputs": [],
   "source": [
    "# Please write your Python code below and execute it.\n",
    "word_vectors = model.wv\n",
    "word_vectors.save(\"mymodel.wordvectors\")\n",
    "\n",
    "del model"
   ]
  },
  {
   "cell_type": "code",
   "execution_count": 159,
   "outputs": [],
   "source": [
    "wv_text8 = KeyedVectors.load(\"mymodel.wordvectors\", mmap='r')"
   ],
   "metadata": {
    "collapsed": false,
    "pycharm": {
     "name": "#%%\n"
    }
   }
  },
  {
   "cell_type": "markdown",
   "id": "backed-modern",
   "metadata": {},
   "source": [
    "e. Evaluate the new model on WordSimilarity-353 and Analogies tasks, reusing your code from above.  How does this model compare with the one trained on Google News?  Why?"
   ]
  },
  {
   "cell_type": "code",
   "execution_count": 162,
   "id": "domestic-evaluation",
   "metadata": {},
   "outputs": [
    {
     "name": "stdout",
     "output_type": "stream",
     "text": [
      "Pearson 0.593985 with p-value 4.876860876871982e-35\n",
      "Accuracy: 0.7401448525607863\n",
      "Total of 19106\n"
     ]
    }
   ],
   "source": [
    "#wv_text8.init_sims(replace=True) # see (2b) but less important as the model is much smaller\n",
    "\n",
    "# Please write your Python code below and execute it.\n",
    "\n",
    "pearson2, spearman2, oov_ratio2 = wv_text8.evaluate_word_pairs(datapath('wordsim353.tsv'))\n",
    "print(f'Pearson {pearson2[0]:2f} with p-value {pearson2[1]}')\n",
    "\n",
    "analogy_scores2 = wv_text8.evaluate_word_analogies(datapath('questions-words.txt'))\n",
    "\n"
   ]
  },
  {
   "cell_type": "code",
   "execution_count": 164,
   "outputs": [
    {
     "name": "stdout",
     "output_type": "stream",
     "text": [
      "Accuracy: 0.20941065633832304\n",
      "Total of 19106\n"
     ]
    }
   ],
   "source": [
    "acc2 = analogy_scores2[0]\n",
    "print(f'Accuracy: {acc2}')\n",
    "# last element is total accuracy - so just count them together\n",
    "print(f\"Total of {(len(analogy_scores2[1][-1]['correct'])+len(analogy_scores2[1][-1]['incorrect']))}\")"
   ],
   "metadata": {
    "collapsed": false,
    "pycharm": {
     "name": "#%%\n"
    }
   }
  },
  {
   "cell_type": "code",
   "execution_count": 165,
   "id": "dramatic-celtic",
   "metadata": {},
   "outputs": [],
   "source": [
    "# Please write below a short comment to compare the 'Text8' model with the'Google News' model."
   ]
  },
  {
   "cell_type": "markdown",
   "source": [
    "The models pearson correlation is about 3 % worse than the original model trained from google news.\n",
    "Regarding the analogy task, the self trained model is about 10% worse which in my opinion can be explained by the significant reduction of the vectors representing the words in the vectorspace"
   ],
   "metadata": {
    "collapsed": false
   }
  },
  {
   "cell_type": "markdown",
   "id": "original-incident",
   "metadata": {},
   "source": [
    "f. Compare the accuracies on the analogy tasks of the two models for each category of tasks.  For which category are accuracies the most similar.  Can you explain this?"
   ]
  },
  {
   "cell_type": "code",
   "execution_count": 188,
   "id": "comfortable-prospect",
   "metadata": {},
   "outputs": [
    {
     "name": "stdout",
     "output_type": "stream",
     "text": [
      "[('capital-common-countries', 0.8320158102766798, 0.2707509881422925), ('capital-world', 0.8131868131868132, 0.0846774193548387), ('currency', 0.28465346534653463, 0.03117782909930716), ('city-in-state', 0.72111876773409, 0.0899878394811512), ('family', 0.8616600790513834, 0.5355731225296443), ('gram1-adjective-to-adverb', 0.2923387096774194, 0.08266129032258064), ('gram2-opposite', 0.43472906403940886, 0.059113300492610835), ('gram3-comparative', 0.9129129129129129, 0.5420420420420421), ('gram4-superlative', 0.8796791443850267, 0.17943548387096775), ('gram5-present-participle', 0.7850378787878788, 0.26515151515151514), ('gram6-nationality-adjective', 0.9018136335209506, 0.43964978111319575), ('gram7-past-tense', 0.6538461538461539, 0.2230769230769231), ('gram8-plural', 0.8701201201201201, 0.3258258258258258), ('gram9-plural-verbs', 0.6816091954022988, 0.2206896551724138), ('Total accuracy', 0.7401448525607863, 0.20941065633832304)]\n",
      "Highest similarity:\n",
      "('gram1-adjective-to-adverb', 0.2923387096774194, 0.08266129032258064)\n"
     ]
    }
   ],
   "source": [
    "# Please write your Python code below and execute it.\n",
    "data = []\n",
    "for i, score in enumerate(analogy_scores[1]):\n",
    "    data.append((analogy_scores[1][i]['section'],\n",
    "     len(analogy_scores[1][i]['correct'])/(len(analogy_scores[1][i]['correct'])+len(analogy_scores[1][i]['incorrect'])),\n",
    "     len(analogy_scores2[1][i]['correct'])/(len(analogy_scores2[1][i]['correct'])+len(analogy_scores2[1][i]['incorrect']))))\n",
    "print(data)\n",
    "data.sort(key=lambda x: x[1]-x[2])\n",
    "print('Highest similarity:')\n",
    "print(data[0])"
   ]
  },
  {
   "cell_type": "markdown",
   "source": [
    "The highest similarity in the accuracy is in the `gram1-adjective-to-adver` - a wild guess is that the similarity is the biggest because the accuracy on the google news trained model is very low."
   ],
   "metadata": {
    "collapsed": false
   }
  },
  {
   "cell_type": "markdown",
   "id": "numeric-sunday",
   "metadata": {},
   "source": [
    "## 4. Compare the two models on your own analogy tasks\n",
    "In this section, you will evaluate the new model on the analogy tasks you defined in Section 2f.  You will then try to diagnose the performance by inspecting the word vectors.\n",
    "\n",
    "a. Reusing the code from above, what is the accuracy of the model trained on Text 8 on your analogy tasks from 2f?"
   ]
  },
  {
   "cell_type": "code",
   "execution_count": 189,
   "id": "functional-control",
   "metadata": {},
   "outputs": [
    {
     "name": "stdout",
     "output_type": "stream",
     "text": [
      "0.08333333333333333\n",
      "0.08333333333333333\n",
      "0.08333333333333333\n"
     ]
    }
   ],
   "source": [
    "# Please write your Python code below and execute it.\n",
    "analogy_scores_self_model_text8 = wv_text8.evaluate_word_analogies('questions-words-florian-baer.txt')\n",
    "print(analogy_scores_self[0])\n",
    "analogy_scores_self_model_text8 = wv_text8.evaluate_word_analogies('questions-words-florian-baer2.txt')\n",
    "print(analogy_scores_self[0])\n",
    "analogy_scores_self_model_text8 = wv_text8.evaluate_word_analogies('questions-words-florian-baer3.txt')\n",
    "print(analogy_scores_self[0])"
   ]
  },
  {
   "cell_type": "markdown",
   "id": "adverse-oxford",
   "metadata": {},
   "source": [
    "b. We are now going to visualize the word vectors for the words in your analogy task.  Store the list of words in a variable and check which ones are in the vocabulary; create a new variable with them."
   ]
  },
  {
   "cell_type": "code",
   "execution_count": 194,
   "id": "informative-learning",
   "metadata": {},
   "outputs": [],
   "source": [
    "# Please write your Python code below and execute it.\n",
    "# not all words available: words = ['Airplane', 'Fly', 'Car', 'Drive', 'Human', 'Run']\n",
    "words = ['switzerland', 'cheese', 'italy', 'pizza', 'usa', 'burger']\n"
   ]
  },
  {
   "cell_type": "markdown",
   "id": "activated-marine",
   "metadata": {},
   "source": [
    "c. The function below will help you plot a 2D representation of the word vectors using [PCA from scikit.learn](https://scikit-learn.org/stable/modules/generated/sklearn.decomposition.PCA.html).  (It is also possible to use [UMAP](https://umap-learn.readthedocs.io/en/latest/basic_usage.html) instead of PCA in display_scatterplot).  Please display the word vectors for your model trained on Text8, and then for the model trained on Google News.  Please comment on the differences. "
   ]
  },
  {
   "cell_type": "code",
   "execution_count": 195,
   "id": "demographic-rabbit",
   "metadata": {},
   "outputs": [],
   "source": [
    "from sklearn.decomposition import PCA\n",
    "import matplotlib.pyplot as plt\n",
    "%matplotlib inline"
   ]
  },
  {
   "cell_type": "code",
   "execution_count": 196,
   "id": "starting-catholic",
   "metadata": {},
   "outputs": [],
   "source": [
    "def display_scatterplot(model, words): # assumes all words are in the vocabulary\n",
    "    word_vectors = [model[word] for word in words]\n",
    "    twodim = PCA().fit_transform(word_vectors)[:,:2]\n",
    "    plt.figure(figsize=(6,6))\n",
    "    plt.scatter(twodim[:,0], twodim[:,1], edgecolors='k', c='r')\n",
    "    for word, (x,y) in zip(words, twodim):\n",
    "        plt.text(x + 0.03, y + 0.03, word)"
   ]
  },
  {
   "cell_type": "code",
   "execution_count": 197,
   "id": "innovative-portal",
   "metadata": {},
   "outputs": [
    {
     "data": {
      "text/plain": "<Figure size 432x432 with 1 Axes>",
      "image/png": "[encoded data removed]"
     },
     "metadata": {
      "needs_background": "light"
     },
     "output_type": "display_data"
    }
   ],
   "source": [
    "# Please write your Python code below and execute it.\n",
    "display_scatterplot(wv_text8, words)"
   ]
  },
  {
   "cell_type": "code",
   "execution_count": 198,
   "id": "unlikely-jackson",
   "metadata": {},
   "outputs": [
    {
     "data": {
      "text/plain": "<Figure size 432x432 with 1 Axes>",
      "image/png": "[encoded data removed]"
     },
     "metadata": {
      "needs_background": "light"
     },
     "output_type": "display_data"
    }
   ],
   "source": [
    "# Please write your Python code below and execute it.\n",
    "display_scatterplot(wv_model, words)"
   ]
  },
  {
   "cell_type": "markdown",
   "id": "pharmaceutical-lyric",
   "metadata": {},
   "source": [
    "## End of Lab 6\n",
    "Please make sure all cells have been executed, save this completed notebook, compress it to a *zip* file, and upload it to [Moodle](https://moodle.msengineering.ch/course/view.php?id=1869)."
   ]
  }
 ],
 "metadata": {
  "kernelspec": {
   "display_name": "Python 3 (ipykernel)",
   "language": "python",
   "name": "python3"
  },
  "language_info": {
   "codemirror_mode": {
    "name": "ipython",
    "version": 3
   },
   "file_extension": ".py",
   "mimetype": "text/x-python",
   "name": "python",
   "nbconvert_exporter": "python",
   "pygments_lexer": "ipython3",
   "version": "3.10.4"
  }
 },
 "nbformat": 4,
 "nbformat_minor": 5
}